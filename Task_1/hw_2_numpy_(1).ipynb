{
  "cells": [
    {
      "cell_type": "markdown",
      "metadata": {
        "id": "o3-p1N1ys03M"
      },
      "source": [
        "# Самостоятельная работа 2. Numpy\n",
        "\n",
        "1. Скачайте этот ноутбук к себе.\n",
        "2. Заполните пропущенные ячейки, отвечая на заданные вопросы. Там должен быть код! (если не сказано обратное)\n",
        "3. Сохраните результат в своём гитхаб репозитории.\n",
        "\n",
        "#### Полезная литература\n",
        "\n",
        "- http://www.numpy.org/\n",
        "- https://jakevdp.github.io/PythonDataScienceHandbook/02.00-introduction-to-numpy.html\n",
        "- https://docs.scipy.org/doc/numpy/user/quickstart.html"
      ]
    },
    {
      "cell_type": "markdown",
      "metadata": {
        "id": "tSuxuXXYs03O"
      },
      "source": [
        "1) Импортировать numpy и написать версию"
      ]
    },
    {
      "cell_type": "code",
      "execution_count": 1,
      "metadata": {
        "id": "1JDWLMf9s03O"
      },
      "outputs": [],
      "source": [
        "import numpy as np"
      ]
    },
    {
      "cell_type": "markdown",
      "metadata": {
        "id": "wfgCyW4Fs03P"
      },
      "source": [
        "2) Создать нулевой вектор размера 10"
      ]
    },
    {
      "cell_type": "code",
      "execution_count": 3,
      "metadata": {
        "colab": {
          "base_uri": "https://localhost:8080/"
        },
        "id": "O-TWQfxns03P",
        "outputId": "d68c411a-c28e-41c4-f494-cfeceaaf793c"
      },
      "outputs": [
        {
          "output_type": "execute_result",
          "data": {
            "text/plain": [
              "array([0., 0., 0., 0., 0., 0., 0., 0., 0., 0.])"
            ]
          },
          "metadata": {},
          "execution_count": 3
        }
      ],
      "source": [
        "a = np.zeros(10)\n",
        "a"
      ]
    },
    {
      "cell_type": "markdown",
      "metadata": {
        "id": "whJ7ZGb2s03P"
      },
      "source": [
        "3) Создать вектор заполненный 7-ами размера 7"
      ]
    },
    {
      "cell_type": "code",
      "execution_count": 5,
      "metadata": {
        "colab": {
          "base_uri": "https://localhost:8080/"
        },
        "id": "4_BpWHHps03Q",
        "outputId": "6330fb53-4c74-44e9-d3dc-9bdf28d04636"
      },
      "outputs": [
        {
          "output_type": "execute_result",
          "data": {
            "text/plain": [
              "array([7, 7, 7, 7, 7, 7, 7])"
            ]
          },
          "metadata": {},
          "execution_count": 5
        }
      ],
      "source": [
        "a = np.full(7, 7, dtype = int)\n",
        "a"
      ]
    },
    {
      "cell_type": "markdown",
      "metadata": {
        "id": "rQPWizKYs03Q"
      },
      "source": [
        "4) Создать вектор заполненный четными числами от 10 до 100"
      ]
    },
    {
      "cell_type": "code",
      "execution_count": 8,
      "metadata": {
        "colab": {
          "base_uri": "https://localhost:8080/"
        },
        "id": "qmM0rvMIs03Q",
        "outputId": "34ed2695-0b08-441c-97dc-87e88c17dfab"
      },
      "outputs": [
        {
          "output_type": "execute_result",
          "data": {
            "text/plain": [
              "array([ 10,  12,  14,  16,  18,  20,  22,  24,  26,  28,  30,  32,  34,\n",
              "        36,  38,  40,  42,  44,  46,  48,  50,  52,  54,  56,  58,  60,\n",
              "        62,  64,  66,  68,  70,  72,  74,  76,  78,  80,  82,  84,  86,\n",
              "        88,  90,  92,  94,  96,  98, 100])"
            ]
          },
          "metadata": {},
          "execution_count": 8
        }
      ],
      "source": [
        "np.arange(10, 101, 2)"
      ]
    },
    {
      "cell_type": "markdown",
      "metadata": {
        "id": "dGXrBR8zs03R"
      },
      "source": [
        "5) Создать массив случайных чисел и развернуть его задом наперёд"
      ]
    },
    {
      "cell_type": "code",
      "execution_count": 10,
      "metadata": {
        "colab": {
          "base_uri": "https://localhost:8080/"
        },
        "id": "51BzmS_Ts03R",
        "outputId": "ea929c04-f4e9-41d4-f1e7-d70f3f638213"
      },
      "outputs": [
        {
          "output_type": "execute_result",
          "data": {
            "text/plain": [
              "array([0.16323831, 0.26180995, 0.0130139 , 0.53358721, 0.09524883])"
            ]
          },
          "metadata": {},
          "execution_count": 10
        }
      ],
      "source": [
        "a = np.random.random(5)\n",
        "a[::-1]"
      ]
    },
    {
      "cell_type": "markdown",
      "metadata": {
        "id": "nXzOwRIFs03R"
      },
      "source": [
        "6) Создать двумерную матрицу размера 3 на 3, заполненную числами от 0 до 9"
      ]
    },
    {
      "cell_type": "code",
      "execution_count": 12,
      "metadata": {
        "colab": {
          "base_uri": "https://localhost:8080/"
        },
        "id": "nBfvE7UNs03R",
        "outputId": "bf48a201-5abb-4125-8923-6f5d62150a91"
      },
      "outputs": [
        {
          "output_type": "execute_result",
          "data": {
            "text/plain": [
              "array([[0, 1, 2],\n",
              "       [3, 4, 5],\n",
              "       [6, 7, 8]])"
            ]
          },
          "metadata": {},
          "execution_count": 12
        }
      ],
      "source": [
        "np.arange(0, 9, 1).reshape(3, 3)"
      ]
    },
    {
      "cell_type": "markdown",
      "metadata": {
        "id": "5NQqxFxZs03R"
      },
      "source": [
        "7) Создать матрицу размера 4 на 4 с единицами на диагонали смещеной на один наверх."
      ]
    },
    {
      "cell_type": "code",
      "execution_count": 13,
      "metadata": {
        "colab": {
          "base_uri": "https://localhost:8080/"
        },
        "id": "lrxWHwZOs03S",
        "outputId": "814f88b1-d04b-4f01-eb9c-588603ad3c5d"
      },
      "outputs": [
        {
          "output_type": "execute_result",
          "data": {
            "text/plain": [
              "array([[0., 1., 0., 0., 0.],\n",
              "       [0., 0., 1., 0., 0.],\n",
              "       [0., 0., 0., 1., 0.],\n",
              "       [0., 0., 0., 0., 1.],\n",
              "       [0., 0., 0., 0., 0.]])"
            ]
          },
          "metadata": {},
          "execution_count": 13
        }
      ],
      "source": [
        "np.diag(np.ones(4), 1)"
      ]
    },
    {
      "cell_type": "markdown",
      "metadata": {
        "id": "U4lZuSGYs03S"
      },
      "source": [
        "8) Создать матрицу с числами в диапазоне от 1 до 4 по диагонали. В других ячейках матрицы должны быть семерки."
      ]
    },
    {
      "cell_type": "code",
      "execution_count": 17,
      "metadata": {
        "colab": {
          "base_uri": "https://localhost:8080/"
        },
        "id": "IDNV3ujqs03S",
        "outputId": "e3832f93-6fbe-4da5-ea89-99eb01704e61"
      },
      "outputs": [
        {
          "output_type": "execute_result",
          "data": {
            "text/plain": [
              "array([[1, 7, 7, 7],\n",
              "       [7, 2, 7, 7],\n",
              "       [7, 7, 3, 7],\n",
              "       [7, 7, 7, 4]])"
            ]
          },
          "metadata": {},
          "execution_count": 17
        }
      ],
      "source": [
        "np.full((4, 4), 7, dtype=int) + np.diag(np.arange(1, 5) - 7)"
      ]
    },
    {
      "cell_type": "markdown",
      "metadata": {
        "id": "BPsY2Fz3s03S"
      },
      "source": [
        "9) Создать матрицу размера 5 на 5 заполненную чилами от 0 до 4 в строках."
      ]
    },
    {
      "cell_type": "code",
      "execution_count": 20,
      "metadata": {
        "colab": {
          "base_uri": "https://localhost:8080/"
        },
        "id": "gZhLWv8ts03S",
        "outputId": "7bd09678-4e08-4940-8023-dfedf62553a3"
      },
      "outputs": [
        {
          "output_type": "execute_result",
          "data": {
            "text/plain": [
              "array([[0., 1., 2., 3., 4.],\n",
              "       [0., 1., 2., 3., 4.],\n",
              "       [0., 1., 2., 3., 4.],\n",
              "       [0., 1., 2., 3., 4.],\n",
              "       [0., 1., 2., 3., 4.]])"
            ]
          },
          "metadata": {},
          "execution_count": 20
        }
      ],
      "source": [
        "np.zeros((5, 5)) + np.arange(0, 5)"
      ]
    },
    {
      "cell_type": "markdown",
      "metadata": {
        "id": "QTRBGxw8s03S"
      },
      "source": [
        "10) Создать матрицу случайных чисел размера 10 на 10 и отнять среднее по строкам из каждого элемента строки"
      ]
    },
    {
      "cell_type": "code",
      "execution_count": 19,
      "metadata": {
        "colab": {
          "base_uri": "https://localhost:8080/"
        },
        "id": "cegjAtKYs03S",
        "outputId": "33d0d57e-afc8-4f90-e5b6-1014af82a174"
      },
      "outputs": [
        {
          "output_type": "execute_result",
          "data": {
            "text/plain": [
              "array([[ 0.02049358,  0.34685174, -0.30006116,  0.31978559, -0.1393878 ,\n",
              "         0.28045044, -0.26184384, -0.45173979, -0.1586034 ,  0.34405463],\n",
              "       [ 0.29551868, -0.17246769, -0.01560412,  0.36602399, -0.40762895,\n",
              "         0.22444655,  0.04838003, -0.33818004,  0.29126511, -0.29175357],\n",
              "       [ 0.1960109 ,  0.2360854 , -0.36785365,  0.38623838,  0.0070781 ,\n",
              "         0.09795898, -0.34771685,  0.25283916, -0.04496041, -0.41568002],\n",
              "       [-0.11756255, -0.42818259,  0.36909893,  0.24835046,  0.09772652,\n",
              "         0.29301015, -0.26850323, -0.3109195 ,  0.06115425,  0.05582757],\n",
              "       [-0.24786948,  0.29841862,  0.42660429,  0.17154166, -0.31761401,\n",
              "        -0.20829832, -0.16854515, -0.01558685,  0.12515625, -0.06380702],\n",
              "       [ 0.3477855 ,  0.20627382, -0.24433893, -0.04395886,  0.35775077,\n",
              "        -0.28054165, -0.23275336,  0.09016499, -0.19574515, -0.00463713],\n",
              "       [-0.15354828,  0.11790634,  0.50780768, -0.41050082, -0.20835176,\n",
              "         0.0483309 ,  0.12926035,  0.06816701, -0.26468146,  0.16561005],\n",
              "       [-0.49003933,  0.10785137,  0.47239476, -0.39088171,  0.05067543,\n",
              "         0.26300951,  0.25358406, -0.11350457, -0.10096946, -0.05212006],\n",
              "       [-0.09668813,  0.55588852, -0.05034893, -0.22206702,  0.46422351,\n",
              "        -0.24025165, -0.04192106, -0.26065462,  0.14024991, -0.24843054],\n",
              "       [-0.34102837,  0.02278702,  0.04190373,  0.38697279,  0.12285644,\n",
              "        -0.29371334,  0.54103043, -0.29685532,  0.06732985, -0.25128323]])"
            ]
          },
          "metadata": {},
          "execution_count": 19
        }
      ],
      "source": [
        "a = np.random.random((10, 10))\n",
        "a - a.mean(axis = 1)[:,np.newaxis]"
      ]
    },
    {
      "cell_type": "markdown",
      "metadata": {
        "id": "ApxyuZFps03S"
      },
      "source": [
        "11) Создать матрицу случайных чисел размера 10 на 10 и отнять медиану по столбцам из каждого элемента столбца  "
      ]
    },
    {
      "cell_type": "code",
      "execution_count": 23,
      "metadata": {
        "colab": {
          "base_uri": "https://localhost:8080/"
        },
        "id": "9x5vmCBks03S",
        "outputId": "ca97ce74-7861-4051-ad61-6561b49cbffb"
      },
      "outputs": [
        {
          "output_type": "execute_result",
          "data": {
            "text/plain": [
              "array([[-0.23371307, -0.01190102,  0.02185059, -0.18636267, -0.10992471,\n",
              "         0.0337606 ,  0.03116542,  0.15997692, -0.24663286, -0.46587205],\n",
              "       [-0.35964017, -0.20299729,  0.47712225, -0.21676028,  0.10992471,\n",
              "         0.49837777, -0.03116542,  0.05407346,  0.13748437, -0.34822054],\n",
              "       [-0.19798465,  0.01190102, -0.20304354,  0.55927989, -0.22432055,\n",
              "         0.00400495, -0.30064975,  0.35172475,  0.13129063,  0.21696406],\n",
              "       [ 0.28044018, -0.45060381,  0.4123912 ,  0.10083259,  0.4679159 ,\n",
              "        -0.11730618,  0.27576272, -0.05407346,  0.21879558, -0.13772717],\n",
              "       [ 0.47868944,  0.29674108, -0.02185059,  0.36048184, -0.16272283,\n",
              "        -0.05664401, -0.15193484, -0.09215621, -0.04874094,  0.28443692],\n",
              "       [-0.04759122, -0.43694531,  0.1816922 ,  0.60535602,  0.22399069,\n",
              "        -0.00400495, -0.29697463, -0.18953689, -0.03093757,  0.17414681],\n",
              "       [ 0.56895838,  0.11456851,  0.35671853, -0.20916917,  0.40883058,\n",
              "        -0.10259208,  0.34249181, -0.30191791,  0.23340945, -0.2191974 ],\n",
              "       [ 0.04759122,  0.31751261, -0.13237309, -0.10515446,  0.24409328,\n",
              "         0.32035215,  0.03848672, -0.2887709 , -0.21445082,  0.13772717],\n",
              "       [ 0.17800294, -0.17060457, -0.40156336,  0.20295994, -0.11306991,\n",
              "        -0.25325475, -0.16015203,  0.2936866 , -0.12037247, -0.28888687],\n",
              "       [-0.34080244,  0.10897816, -0.06686904, -0.10083259, -0.38064346,\n",
              "         0.28546314,  0.13084158,  0.47735987,  0.03093757,  0.19035697]])"
            ]
          },
          "metadata": {},
          "execution_count": 23
        }
      ],
      "source": [
        "a = np.random.random((10, 10))\n",
        "a - np.median(a, axis = 0)"
      ]
    },
    {
      "cell_type": "markdown",
      "metadata": {
        "id": "432REwGVs03S"
      },
      "source": [
        "12) Создать матрицу случайных чисел 5x5. Добавить к ней столбецы максимумов и минимумов по строкам. Получится матрица 5x7.  "
      ]
    },
    {
      "cell_type": "code",
      "execution_count": 31,
      "metadata": {
        "colab": {
          "base_uri": "https://localhost:8080/"
        },
        "id": "Nkm_SJeEs03T",
        "outputId": "2727c54c-1082-4bb0-82bb-df644c0f0a46"
      },
      "outputs": [
        {
          "output_type": "execute_result",
          "data": {
            "text/plain": [
              "array([[0.16249197, 0.63097923, 0.67853191, 0.08558772, 0.15760611,\n",
              "        0.08558772, 0.67853191],\n",
              "       [0.1783659 , 0.17865559, 0.42863657, 0.31131773, 0.49592782,\n",
              "        0.1783659 , 0.49592782],\n",
              "       [0.65466601, 0.99281892, 0.7946584 , 0.79990195, 0.5852565 ,\n",
              "        0.5852565 , 0.99281892],\n",
              "       [0.58988498, 0.95657373, 0.18424635, 0.26876387, 0.62547972,\n",
              "        0.18424635, 0.95657373],\n",
              "       [0.56283535, 0.60666413, 0.97149812, 0.38613819, 0.74779002,\n",
              "        0.38613819, 0.97149812]])"
            ]
          },
          "metadata": {},
          "execution_count": 31
        }
      ],
      "source": [
        "a = np.random.random((5, 5))\n",
        "b = a.min(axis = 1)[:,np.newaxis]\n",
        "c = a.max(axis = 1)[:,np.newaxis]\n",
        "np.hstack((a, b, c))"
      ]
    },
    {
      "cell_type": "markdown",
      "metadata": {
        "id": "36Eovlyis03T"
      },
      "source": [
        "13) Вектор чисел от 1 до 51 преобразовать в вектор нечетных чисел и в вектор четных чисел, поменять их размерности, чтобы получились две матрица. Найти произведение этих матриц. Найти обратную матрицу эётого произведения.  "
      ]
    },
    {
      "cell_type": "code",
      "execution_count": 45,
      "metadata": {
        "colab": {
          "base_uri": "https://localhost:8080/",
          "height": 354
        },
        "id": "F0bN9Xaws03T",
        "outputId": "b5edf8c2-20b5-434a-a4b1-d0389eefe502"
      },
      "outputs": [
        {
          "output_type": "error",
          "ename": "LinAlgError",
          "evalue": "ignored",
          "traceback": [
            "\u001b[0;31m---------------------------------------------------------------------------\u001b[0m",
            "\u001b[0;31mLinAlgError\u001b[0m                               Traceback (most recent call last)",
            "\u001b[0;32m<ipython-input-45-6cfb128a485f>\u001b[0m in \u001b[0;36m<cell line: 5>\u001b[0;34m()\u001b[0m\n\u001b[1;32m      3\u001b[0m \u001b[0mchet\u001b[0m \u001b[0;34m=\u001b[0m \u001b[0ma\u001b[0m\u001b[0;34m[\u001b[0m\u001b[0;36m1\u001b[0m\u001b[0;34m:\u001b[0m\u001b[0;34m:\u001b[0m\u001b[0;36m2\u001b[0m\u001b[0;34m]\u001b[0m\u001b[0;34m\u001b[0m\u001b[0;34m\u001b[0m\u001b[0m\n\u001b[1;32m      4\u001b[0m \u001b[0;34m\u001b[0m\u001b[0m\n\u001b[0;32m----> 5\u001b[0;31m \u001b[0mnp\u001b[0m\u001b[0;34m.\u001b[0m\u001b[0mlinalg\u001b[0m\u001b[0;34m.\u001b[0m\u001b[0minv\u001b[0m\u001b[0;34m(\u001b[0m\u001b[0mnechet\u001b[0m\u001b[0;34m.\u001b[0m\u001b[0mreshape\u001b[0m\u001b[0;34m(\u001b[0m\u001b[0;34m(\u001b[0m\u001b[0;36m5\u001b[0m\u001b[0;34m,\u001b[0m\u001b[0;36m5\u001b[0m\u001b[0;34m)\u001b[0m\u001b[0;34m)\u001b[0m \u001b[0;34m@\u001b[0m \u001b[0mchet\u001b[0m\u001b[0;34m.\u001b[0m\u001b[0mreshape\u001b[0m\u001b[0;34m(\u001b[0m\u001b[0;34m(\u001b[0m\u001b[0;36m5\u001b[0m\u001b[0;34m,\u001b[0m\u001b[0;36m5\u001b[0m\u001b[0;34m)\u001b[0m\u001b[0;34m)\u001b[0m\u001b[0;34m)\u001b[0m\u001b[0;34m\u001b[0m\u001b[0;34m\u001b[0m\u001b[0m\n\u001b[0m",
            "\u001b[0;32m/usr/local/lib/python3.10/dist-packages/numpy/core/overrides.py\u001b[0m in \u001b[0;36minv\u001b[0;34m(*args, **kwargs)\u001b[0m\n",
            "\u001b[0;32m/usr/local/lib/python3.10/dist-packages/numpy/linalg/linalg.py\u001b[0m in \u001b[0;36minv\u001b[0;34m(a)\u001b[0m\n\u001b[1;32m    550\u001b[0m     \u001b[0msignature\u001b[0m \u001b[0;34m=\u001b[0m \u001b[0;34m'D->D'\u001b[0m \u001b[0;32mif\u001b[0m \u001b[0misComplexType\u001b[0m\u001b[0;34m(\u001b[0m\u001b[0mt\u001b[0m\u001b[0;34m)\u001b[0m \u001b[0;32melse\u001b[0m \u001b[0;34m'd->d'\u001b[0m\u001b[0;34m\u001b[0m\u001b[0;34m\u001b[0m\u001b[0m\n\u001b[1;32m    551\u001b[0m     \u001b[0mextobj\u001b[0m \u001b[0;34m=\u001b[0m \u001b[0mget_linalg_error_extobj\u001b[0m\u001b[0;34m(\u001b[0m\u001b[0m_raise_linalgerror_singular\u001b[0m\u001b[0;34m)\u001b[0m\u001b[0;34m\u001b[0m\u001b[0;34m\u001b[0m\u001b[0m\n\u001b[0;32m--> 552\u001b[0;31m     \u001b[0mainv\u001b[0m \u001b[0;34m=\u001b[0m \u001b[0m_umath_linalg\u001b[0m\u001b[0;34m.\u001b[0m\u001b[0minv\u001b[0m\u001b[0;34m(\u001b[0m\u001b[0ma\u001b[0m\u001b[0;34m,\u001b[0m \u001b[0msignature\u001b[0m\u001b[0;34m=\u001b[0m\u001b[0msignature\u001b[0m\u001b[0;34m,\u001b[0m \u001b[0mextobj\u001b[0m\u001b[0;34m=\u001b[0m\u001b[0mextobj\u001b[0m\u001b[0;34m)\u001b[0m\u001b[0;34m\u001b[0m\u001b[0;34m\u001b[0m\u001b[0m\n\u001b[0m\u001b[1;32m    553\u001b[0m     \u001b[0;32mreturn\u001b[0m \u001b[0mwrap\u001b[0m\u001b[0;34m(\u001b[0m\u001b[0mainv\u001b[0m\u001b[0;34m.\u001b[0m\u001b[0mastype\u001b[0m\u001b[0;34m(\u001b[0m\u001b[0mresult_t\u001b[0m\u001b[0;34m,\u001b[0m \u001b[0mcopy\u001b[0m\u001b[0;34m=\u001b[0m\u001b[0;32mFalse\u001b[0m\u001b[0;34m)\u001b[0m\u001b[0;34m)\u001b[0m\u001b[0;34m\u001b[0m\u001b[0;34m\u001b[0m\u001b[0m\n\u001b[1;32m    554\u001b[0m \u001b[0;34m\u001b[0m\u001b[0m\n",
            "\u001b[0;32m/usr/local/lib/python3.10/dist-packages/numpy/linalg/linalg.py\u001b[0m in \u001b[0;36m_raise_linalgerror_singular\u001b[0;34m(err, flag)\u001b[0m\n\u001b[1;32m     87\u001b[0m \u001b[0;34m\u001b[0m\u001b[0m\n\u001b[1;32m     88\u001b[0m \u001b[0;32mdef\u001b[0m \u001b[0m_raise_linalgerror_singular\u001b[0m\u001b[0;34m(\u001b[0m\u001b[0merr\u001b[0m\u001b[0;34m,\u001b[0m \u001b[0mflag\u001b[0m\u001b[0;34m)\u001b[0m\u001b[0;34m:\u001b[0m\u001b[0;34m\u001b[0m\u001b[0;34m\u001b[0m\u001b[0m\n\u001b[0;32m---> 89\u001b[0;31m     \u001b[0;32mraise\u001b[0m \u001b[0mLinAlgError\u001b[0m\u001b[0;34m(\u001b[0m\u001b[0;34m\"Singular matrix\"\u001b[0m\u001b[0;34m)\u001b[0m\u001b[0;34m\u001b[0m\u001b[0;34m\u001b[0m\u001b[0m\n\u001b[0m\u001b[1;32m     90\u001b[0m \u001b[0;34m\u001b[0m\u001b[0m\n\u001b[1;32m     91\u001b[0m \u001b[0;32mdef\u001b[0m \u001b[0m_raise_linalgerror_nonposdef\u001b[0m\u001b[0;34m(\u001b[0m\u001b[0merr\u001b[0m\u001b[0;34m,\u001b[0m \u001b[0mflag\u001b[0m\u001b[0;34m)\u001b[0m\u001b[0;34m:\u001b[0m\u001b[0;34m\u001b[0m\u001b[0;34m\u001b[0m\u001b[0m\n",
            "\u001b[0;31mLinAlgError\u001b[0m: Singular matrix"
          ]
        }
      ],
      "source": [
        "a = np.arange(1, 51)\n",
        "nechet = a[::2]\n",
        "chet = a[1::2]\n",
        "\n",
        "np.linalg.inv(nechet.reshape((5,5)) @ chet.reshape((5,5)))"
      ]
    },
    {
      "cell_type": "markdown",
      "source": [
        "**Обратной матрицы не существует**"
      ],
      "metadata": {
        "id": "-r2MvGSZ4zdm"
      }
    },
    {
      "cell_type": "markdown",
      "metadata": {
        "id": "tGFINkhos03T"
      },
      "source": [
        "14) Создать 8x8 матрицу и заполнить её в шахматном порядке нулями и единицами."
      ]
    },
    {
      "cell_type": "code",
      "execution_count": 33,
      "metadata": {
        "colab": {
          "base_uri": "https://localhost:8080/"
        },
        "id": "bZbn8vn1s03T",
        "outputId": "45aae429-93c0-4b78-9200-454845d3c91d"
      },
      "outputs": [
        {
          "output_type": "stream",
          "name": "stdout",
          "text": [
            "[[0 1 0 1 0 1 0 1]\n",
            " [1 0 1 0 1 0 1 0]\n",
            " [0 1 0 1 0 1 0 1]\n",
            " [1 0 1 0 1 0 1 0]\n",
            " [0 1 0 1 0 1 0 1]\n",
            " [1 0 1 0 1 0 1 0]\n",
            " [0 1 0 1 0 1 0 1]\n",
            " [1 0 1 0 1 0 1 0]]\n"
          ]
        }
      ],
      "source": [
        "a = np.zeros((8,8), dtype=int)\n",
        "a[1::2,::2] = 1\n",
        "a[::2,1::2] = 1\n",
        "print(a)"
      ]
    }
  ],
  "metadata": {
    "kernelspec": {
      "display_name": "Python 3",
      "language": "python",
      "name": "python3"
    },
    "language_info": {
      "codemirror_mode": {
        "name": "ipython",
        "version": 3
      },
      "file_extension": ".py",
      "mimetype": "text/x-python",
      "name": "python",
      "nbconvert_exporter": "python",
      "pygments_lexer": "ipython3",
      "version": "3.8.0"
    },
    "colab": {
      "provenance": []
    }
  },
  "nbformat": 4,
  "nbformat_minor": 0
}