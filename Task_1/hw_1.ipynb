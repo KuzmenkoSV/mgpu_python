{
  "nbformat": 4,
  "nbformat_minor": 0,
  "metadata": {
    "colab": {
      "provenance": []
    },
    "kernelspec": {
      "name": "python3",
      "display_name": "Python 3"
    },
    "language_info": {
      "name": "python"
    }
  },
  "cells": [
    {
      "cell_type": "code",
      "execution_count": 2,
      "metadata": {
        "colab": {
          "base_uri": "https://localhost:8080/"
        },
        "id": "Pv3P2JGTmCmI",
        "outputId": "568df6c2-5b92-427e-aa18-4b9431f42378"
      },
      "outputs": [
        {
          "output_type": "stream",
          "name": "stdout",
          "text": [
            "К\n",
            "у\n",
            "з\n",
            "ь\n",
            "м\n",
            "е\n",
            "н\n",
            "к\n",
            "о\n",
            " \n",
            "С\n",
            "е\n",
            "р\n",
            "г\n",
            "е\n",
            "й\n",
            " \n",
            "В\n",
            "и\n",
            "к\n",
            "т\n",
            "о\n",
            "р\n",
            "о\n",
            "в\n",
            "и\n",
            "ч\n"
          ]
        }
      ],
      "source": [
        "full_name = 'Кузьменко Сергей Викторович'\n",
        "for i in full_name:\n",
        "  print(i)"
      ]
    },
    {
      "cell_type": "markdown",
      "source": [
        "Функция перевода рубля в йену"
      ],
      "metadata": {
        "id": "tJhnM1OGnHI5"
      }
    },
    {
      "cell_type": "code",
      "source": [
        "def yen_convert(rub):\n",
        "  yen = rub * 1.53\n",
        "  return yen"
      ],
      "metadata": {
        "id": "at4tesKPnGB0"
      },
      "execution_count": 7,
      "outputs": []
    },
    {
      "cell_type": "code",
      "source": [
        "rub = 100\n",
        "print(yen_convert(rub))"
      ],
      "metadata": {
        "colab": {
          "base_uri": "https://localhost:8080/"
        },
        "id": "_KDIIZj9ocQx",
        "outputId": "4d23adf5-5b18-4769-d49e-8e8869437c99"
      },
      "execution_count": 9,
      "outputs": [
        {
          "output_type": "stream",
          "name": "stdout",
          "text": [
            "153.0\n"
          ]
        }
      ]
    }
  ]
}